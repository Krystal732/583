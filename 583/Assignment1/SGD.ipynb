{
 "cells": [
  {
   "cell_type": "code",
   "execution_count": 21,
   "id": "2ff393e6",
   "metadata": {},
   "outputs": [
    {
     "name": "stdout",
     "output_type": "stream",
     "text": [
      "SGD testing error: 0.20769426080530443\n"
     ]
    }
   ],
   "source": [
    "import sklearn\n",
    "import pandas as pd\n",
    "from sklearn.model_selection import train_test_split\n",
    "from sklearn.metrics import mean_squared_error\n",
    "from sklearn.linear_model import SGDRegressor\n",
    "\n",
    "\n",
    "import math\n",
    "import numpy\n",
    "\n",
    "data = pd.read_csv('data.csv')\n",
    "\n",
    "\n",
    "#Clean data\n",
    "data.drop(data.columns[[0, 32]], axis = 1, inplace = True)\n",
    "\n",
    "data['diagnosis'] = data['diagnosis'].replace('M',-1)\n",
    "data['diagnosis'] = data['diagnosis'].replace('B',1)\n",
    "\n",
    "#Split data training/testing\n",
    "x_train, x_test, y_train, y_test = train_test_split(numpy.asarray(data.iloc[:,1:]),numpy.asarray(data.iloc[:,0:1]) , test_size=0.2 )\n",
    "\n",
    "\n",
    "# Standardization\n",
    "\n",
    "# calculate mu and sig using the training set\n",
    "d = x_train.shape[1]\n",
    "mu = numpy.mean(x_train, axis=0).reshape(1, d)\n",
    "sig = numpy.std(x_train, axis=0).reshape(1, d)\n",
    "\n",
    "# transform the training features\n",
    "x_train = (x_train - mu) / (sig + 1E-6)\n",
    "# transform the test features\n",
    "x_test = (x_test - mu) / (sig + 1E-6)\n",
    "\n",
    "\n",
    "\n",
    "model = SGDRegressor(loss = 'squared_error', alpha = 0.01, max_iter=1000)\n",
    "model.fit(x_train,y_train.ravel())\n",
    "\n",
    "\n",
    "y_predict = model.predict(x_test)\n",
    "\n",
    "\n",
    "\n",
    "mse = mean_squared_error(y_predict, y_test)\n",
    "print('SGD testing error:' ,mse)\n",
    "\n"
   ]
  },
  {
   "cell_type": "code",
   "execution_count": null,
   "id": "90416704",
   "metadata": {},
   "outputs": [],
   "source": []
  },
  {
   "cell_type": "code",
   "execution_count": null,
   "id": "13ef8504",
   "metadata": {},
   "outputs": [],
   "source": []
  },
  {
   "cell_type": "code",
   "execution_count": null,
   "id": "698500a0",
   "metadata": {},
   "outputs": [],
   "source": []
  }
 ],
 "metadata": {
  "kernelspec": {
   "display_name": "Python 3 (ipykernel)",
   "language": "python",
   "name": "python3"
  },
  "language_info": {
   "codemirror_mode": {
    "name": "ipython",
    "version": 3
   },
   "file_extension": ".py",
   "mimetype": "text/x-python",
   "name": "python",
   "nbconvert_exporter": "python",
   "pygments_lexer": "ipython3",
   "version": "3.9.13"
  }
 },
 "nbformat": 4,
 "nbformat_minor": 5
}
