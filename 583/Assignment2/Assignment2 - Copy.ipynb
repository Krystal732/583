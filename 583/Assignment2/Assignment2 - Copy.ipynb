{
  "cells": [
    {
      "cell_type": "markdown",
      "metadata": {
        "id": "EvZ2JCnFwBaj"
      },
      "source": [
        "# Assignment 2: Build a CNN for image recognition.\n",
        "\n",
        "## Due Date:  March 31, 11:59PM\n",
        "\n",
        "### Name: Krystal Hong\n"
      ]
    },
    {
      "cell_type": "markdown",
      "metadata": {
        "id": "u2jdbBq8wBam"
      },
      "source": [
        "## Introduction:\n",
        "\n",
        "1. In this assignment, you will build Convolutional Neural Network to classify CIFAR-10 Images.\n",
        "2. You can directly load dataset from many deep learning packages.\n",
        "3. You can use any deep learning packages such as pytorch, keras or tensorflow for this assignment."
      ]
    },
    {
      "cell_type": "markdown",
      "metadata": {
        "id": "YyzKOQK8wBan"
      },
      "source": [
        "## Requirements:\n",
        "\n",
        "1. You need to load cifar 10 data and split the entire training dataset into training and validation.\n",
        "2. You will implement a CNN model to classify cifar 10 images with provided structure.\n",
        "3. You need to plot the training and validation accuracy or loss obtained from above step.\n",
        "4. Then you can use tuned hyper-parameters to train using the entire training dataset.\n",
        "5. You should report the testing accuracy using the model with complete data.\n",
        "6. You may try to change the structure (e.g, add BN layer or dropout layer,...) and analyze your findings.\n",
        "\n",
        "## Google Colab\n",
        "\n",
        "- If you do not have GPU, the training of a CNN can be slow. Google Colab is a good option."
      ]
    },
    {
      "cell_type": "markdown",
      "metadata": {
        "id": "FBeA62EdwBan"
      },
      "source": [
        "## Batch Normalization (BN)"
      ]
    },
    {
      "cell_type": "markdown",
      "metadata": {
        "id": "BWUEnaK7wBao"
      },
      "source": [
        "### Background:"
      ]
    },
    {
      "cell_type": "markdown",
      "metadata": {
        "id": "dLXNQ4kpwBao"
      },
      "source": [
        "- Batch Normalization is a technique to speed up training and help make the model more stable.\n",
        "- In simple words, batch normalization is just another network layer that gets inserted between a hidden layer and the next hidden layer. Its job is to take the outputs from the first hidden layer and normalize them before passing them on as the input of the next hidden layer.\n",
        "\n",
        "- For more detailed information, you may refer to the original paper: https://arxiv.org/pdf/1502.03167.pdf."
      ]
    },
    {
      "cell_type": "markdown",
      "metadata": {
        "id": "jUX-lBwOwBao"
      },
      "source": [
        "### BN Algorithm:"
      ]
    },
    {
      "cell_type": "markdown",
      "metadata": {
        "id": "ZcgRavlSwBap"
      },
      "source": [
        "- Input: Values of $x$ over a mini-batch: $\\mathbf{B}$ = $\\{x_1,..., x_m\\};$\n",
        "- Output: $\\{y_i = BN_{\\gamma,\\beta}(x_i)\\}$, $\\gamma, \\beta$ are learnable parameters\n",
        "\n",
        "Normalization of the Input:\n",
        "$$\\mu_{\\mathbf{B}} = \\frac{1}{m}\\sum_{i=1}^m x_i$$\n",
        "$$\\sigma_{\\mathbf{B}}^2 = \\frac{1}{m}\\sum_{i=1}^m (x_i - \\mu_{\\mathbf{B}})^2$$\n",
        "$$\\hat{x_i} = \\frac{x_i - \\mu_{\\mathbf{B}}}{\\sqrt{\\sigma_{\\mathbf{B}}}^2 + \\epsilon}$$\n",
        "Re-scaling and Offsetting:\n",
        "$$y_i = \\gamma \\hat{x_i} + \\beta = BN_{\\gamma,\\beta}(x_i)$$\n"
      ]
    },
    {
      "cell_type": "markdown",
      "metadata": {
        "id": "nKSsxAjRwBap"
      },
      "source": [
        "### Advantages of BN:\n",
        "1. Improves gradient flow through the network.\n",
        "2. Allows use of saturating nonlinearities and higher learning rates.\n",
        "3. Makes weights easier to initialize.\n",
        "4. Act as a form of regularization and may reduce the need for dropout."
      ]
    },
    {
      "cell_type": "markdown",
      "metadata": {
        "id": "ZZ5Q2x-0wBaq"
      },
      "source": [
        "### Implementation:"
      ]
    },
    {
      "cell_type": "markdown",
      "metadata": {
        "id": "RVwCG3omwBaq"
      },
      "source": [
        "- The batch normalization layer has already been implemented in many packages. You may simply call the function to build the layer. For example: torch.nn.BatchNorm2d() using pytroch package, keras.layers.BatchNormalization() using keras package.\n",
        "- The location of BN layer: Please make sure ```BatchNormalization``` is between a ```Conv```/```Dense``` layer and an ```activation``` layer."
      ]
    },
    {
      "cell_type": "markdown",
      "metadata": {
        "id": "QEBTdwnPwBaq"
      },
      "source": [
        "## 1. Data preparation"
      ]
    },
    {
      "cell_type": "markdown",
      "metadata": {
        "id": "GGsp-3e0wBaq"
      },
      "source": [
        "### 1.1. Load data\n"
      ]
    },
    {
      "cell_type": "code",
      "execution_count": 17,
      "metadata": {
        "colab": {
          "base_uri": "https://localhost:8080/"
        },
        "id": "HhX6lC5vwBar",
        "outputId": "be5be75d-73d9-415a-e177-bcc4aad0ea7c"
      },
      "outputs": [
        {
          "output_type": "stream",
          "name": "stdout",
          "text": [
            "shape of x_train: (50000, 32, 32, 3)\n",
            "shape of y_train: (50000, 1)\n",
            "shape of x_test: (10000, 32, 32, 3)\n",
            "shape of y_test: (10000, 1)\n",
            "number of classes: 10\n"
          ]
        }
      ],
      "source": [
        "# Load Cifar-10 Data\n",
        "# This is just an example, you may load dataset from other packages.\n",
        "import keras\n",
        "import numpy as np\n",
        "import tensorflow.keras\n",
        "### If you can not load keras dataset, un-comment these two lines.\n",
        "#import ssl\n",
        "#ssl._create_default_https_context = ssl._create_unverified_context\n",
        "\n",
        "(x_train, y_train), (x_test, y_test) = keras.datasets.cifar10.load_data()\n",
        "\n",
        "print('shape of x_train: ' + str(x_train.shape))\n",
        "print('shape of y_train: ' + str(y_train.shape))\n",
        "print('shape of x_test: ' + str(x_test.shape))\n",
        "print('shape of y_test: ' + str(y_test.shape))\n",
        "print('number of classes: ' + str(np.max(y_train) - np.min(y_train) + 1))"
      ]
    },
    {
      "cell_type": "markdown",
      "metadata": {
        "id": "9SSvN7qowBas"
      },
      "source": [
        "### 1.2. One-hot encode the labels (5 points)\n",
        "\n",
        "In the input, a label is a scalar in $\\{0, 1, \\cdots , 9\\}$. One-hot encode transform such a scalar to a $10$-dim vector. E.g., a scalar ```y_train[j]=3``` is transformed to the vector ```y_train_vec[j]=[0, 0, 0, 1, 0, 0, 0, 0, 0, 0]```.\n",
        "\n",
        "1. Implement a function ```to_one_hot``` that transforms an $n\\times 1$ array to a $n\\times 10$ matrix.\n",
        "\n",
        "2. Apply the function to ```y_train``` and ```y_test```."
      ]
    },
    {
      "cell_type": "code",
      "execution_count": 18,
      "metadata": {
        "colab": {
          "base_uri": "https://localhost:8080/"
        },
        "id": "jhEjfIQBwBas",
        "outputId": "48d0df0c-4ead-40a8-c2c4-6b5c2a5f1c11"
      },
      "outputs": [
        {
          "output_type": "stream",
          "name": "stdout",
          "text": [
            "Shape of y_train_vec: (50000, 10)\n",
            "Shape of y_test_vec: (10000, 10)\n",
            "[6]\n",
            "[0. 0. 0. 0. 0. 0. 1. 0. 0. 0.]\n"
          ]
        }
      ],
      "source": [
        "def to_one_hot(y, num_class=10):\n",
        "    new_y = []\n",
        "    for i in y:\n",
        "        vec = np.zeros(num_class)\n",
        "        vec[i] = 1\n",
        "        new_y.append(vec)\n",
        "    return np.asarray(new_y)\n",
        "\n",
        "y_train_vec = to_one_hot(y_train)\n",
        "y_test_vec = to_one_hot(y_test)\n",
        "\n",
        "print('Shape of y_train_vec: ' + str(y_train_vec.shape))\n",
        "print('Shape of y_test_vec: ' + str(y_test_vec.shape))\n",
        "\n",
        "print(y_train[0])\n",
        "print(y_train_vec[0])"
      ]
    },
    {
      "cell_type": "markdown",
      "metadata": {
        "id": "hb22065IwBas"
      },
      "source": [
        "#### Remark: the outputs should be\n",
        "* Shape of y_train_vec: (50000, 10)\n",
        "* Shape of y_test_vec: (10000, 10)\n",
        "* [6]\n",
        "* [0. 0. 0. 0. 0. 0. 1. 0. 0. 0.]"
      ]
    },
    {
      "cell_type": "markdown",
      "metadata": {
        "id": "a-kWxjATwBat"
      },
      "source": [
        "### 1.3. Randomly partition the training set to training and validation sets (5 points)\n",
        "\n",
        "Randomly partition the 50K training samples to 2 sets: \n",
        "* a training set containing 40K samples: x_tr, y_tr\n",
        "* a validation set containing 10K samples: x_val, y_val\n"
      ]
    },
    {
      "cell_type": "code",
      "execution_count": 19,
      "metadata": {
        "colab": {
          "base_uri": "https://localhost:8080/"
        },
        "id": "t_wfdOifwBat",
        "outputId": "81487591-44ca-4c60-951e-87987814c890"
      },
      "outputs": [
        {
          "output_type": "stream",
          "name": "stdout",
          "text": [
            "Shape of x_tr: (40000, 32, 32, 3)\n",
            "Shape of y_tr: (40000, 10)\n",
            "Shape of x_val: (10000, 32, 32, 3)\n",
            "Shape of y_val: (10000, 10)\n"
          ]
        }
      ],
      "source": [
        "from sklearn.model_selection import train_test_split\n",
        "\n",
        "x_tr, x_val, y_tr, y_val = train_test_split(x_train,y_train_vec,test_size=0.2)\n",
        "\n",
        "print('Shape of x_tr: ' + str(x_tr.shape))\n",
        "print('Shape of y_tr: ' + str(y_tr.shape))\n",
        "print('Shape of x_val: ' + str(x_val.shape))\n",
        "print('Shape of y_val: ' + str(y_val.shape))"
      ]
    },
    {
      "cell_type": "markdown",
      "metadata": {
        "id": "L2hNtt4uwBat"
      },
      "source": [
        "## 2. Build a CNN and tune its hyper-parameters (50 points)\n",
        "\n",
        "- Build a convolutional neural network model using the below structure:\n",
        "\n",
        "- It should have a structure of: Conv - ReLU - Max Pool - ConV - ReLU - Max Pool - Dense - ReLU - Dense - Softmax\n",
        "\n",
        "- In the graph 3@32x32 means the dimension of input image, 32@30x30 means it has 32 filters and the dimension now becomes 30x30 after the convolution.\n",
        "- All convolutional layers (Conv) should have stride = 1 and no padding.\n",
        "- Max Pooling has a pool size of 2 by 2.\n",
        "\n",
        "\n"
      ]
    },
    {
      "cell_type": "markdown",
      "metadata": {
        "id": "cVz7qpnSwBat"
      },
      "source": [
        "<img src=\"network.PNG\"/>"
      ]
    },
    {
      "cell_type": "markdown",
      "metadata": {
        "id": "XYXZ3oZiwBat"
      },
      "source": [
        "- You may use the validation data to tune the hyper-parameters (e.g., learning rate, and optimization algorithm)\n",
        "- Do NOT use test data for hyper-parameter tuning!!!\n",
        "- Try to achieve a validation accuracy as high as possible."
      ]
    },
    {
      "cell_type": "code",
      "execution_count": 20,
      "metadata": {
        "colab": {
          "base_uri": "https://localhost:8080/"
        },
        "id": "XLpB_GbmwBau",
        "outputId": "f0c2ff2e-a6e3-40e3-cec3-d813871a5b62"
      },
      "outputs": [
        {
          "output_type": "stream",
          "name": "stdout",
          "text": [
            "Model: \"sequential_7\"\n",
            "_________________________________________________________________\n",
            " Layer (type)                Output Shape              Param #   \n",
            "=================================================================\n",
            " conv2d_14 (Conv2D)          (None, 30, 30, 32)        896       \n",
            "                                                                 \n",
            " max_pooling2d_14 (MaxPoolin  (None, 15, 15, 32)       0         \n",
            " g2D)                                                            \n",
            "                                                                 \n",
            " conv2d_15 (Conv2D)          (None, 12, 12, 64)        32832     \n",
            "                                                                 \n",
            " max_pooling2d_15 (MaxPoolin  (None, 6, 6, 64)         0         \n",
            " g2D)                                                            \n",
            "                                                                 \n",
            " flatten_7 (Flatten)         (None, 2304)              0         \n",
            "                                                                 \n",
            " dense_14 (Dense)            (None, 256)               590080    \n",
            "                                                                 \n",
            " dense_15 (Dense)            (None, 10)                2570      \n",
            "                                                                 \n",
            "=================================================================\n",
            "Total params: 626,378\n",
            "Trainable params: 626,378\n",
            "Non-trainable params: 0\n",
            "_________________________________________________________________\n"
          ]
        }
      ],
      "source": [
        "# Build the model\n",
        "\n",
        "from tensorflow.keras.layers import Conv2D, MaxPooling2D, Flatten, Dense\n",
        "from tensorflow.keras import models\n",
        "\n",
        "model = models.Sequential()\n",
        "#1 conv, relu, max pool\n",
        "model.add(Conv2D(32, (3, 3), activation = 'relu', input_shape=(32, 32, 3)))\n",
        "model.add(MaxPooling2D((2, 2)))\n",
        "\n",
        "#2 conv, relu, max pool\n",
        "model.add(Conv2D(64, (4, 4), activation = 'relu'))\n",
        "model.add(MaxPooling2D((2, 2)))\n",
        "\n",
        "model.add(Flatten())\n",
        "#Dense layers\n",
        "model.add(Dense(256, activation = 'relu'))\n",
        "model.add(Dense(10, activation = 'softmax'))\n",
        "\n",
        "\n",
        "model.summary()"
      ]
    },
    {
      "cell_type": "code",
      "execution_count": 21,
      "metadata": {
        "id": "MFmO9yMUwBau"
      },
      "outputs": [],
      "source": [
        "# Define model optimizer and loss function\n",
        "from tensorflow.keras import optimizers\n",
        "model.compile(optimizer=optimizers.RMSprop(learning_rate=0.0001), loss = 'categorical_crossentropy', metrics=['acc'])\n"
      ]
    },
    {
      "cell_type": "code",
      "execution_count": 22,
      "metadata": {
        "colab": {
          "base_uri": "https://localhost:8080/"
        },
        "id": "gnXp3qROwBau",
        "outputId": "d5aadfa8-0a84-4c98-b6d9-eaaea3bd2c13"
      },
      "outputs": [
        {
          "output_type": "stream",
          "name": "stdout",
          "text": [
            "Epoch 1/50\n",
            "400/400 [==============================] - 3s 6ms/step - loss: 3.7334 - acc: 0.3064 - val_loss: 1.7417 - val_acc: 0.4055\n",
            "Epoch 2/50\n",
            "400/400 [==============================] - 2s 5ms/step - loss: 1.5154 - acc: 0.4736 - val_loss: 1.4482 - val_acc: 0.4950\n",
            "Epoch 3/50\n",
            "400/400 [==============================] - 2s 5ms/step - loss: 1.2760 - acc: 0.5577 - val_loss: 1.3819 - val_acc: 0.5254\n",
            "Epoch 4/50\n",
            "400/400 [==============================] - 2s 6ms/step - loss: 1.1137 - acc: 0.6150 - val_loss: 1.3419 - val_acc: 0.5504\n",
            "Epoch 5/50\n",
            "400/400 [==============================] - 2s 6ms/step - loss: 0.9793 - acc: 0.6610 - val_loss: 1.2842 - val_acc: 0.5703\n",
            "Epoch 6/50\n",
            "400/400 [==============================] - 2s 5ms/step - loss: 0.8679 - acc: 0.7026 - val_loss: 1.2650 - val_acc: 0.5813\n",
            "Epoch 7/50\n",
            "400/400 [==============================] - 2s 5ms/step - loss: 0.7694 - acc: 0.7369 - val_loss: 1.2917 - val_acc: 0.5796\n",
            "Epoch 8/50\n",
            "400/400 [==============================] - 2s 5ms/step - loss: 0.6789 - acc: 0.7710 - val_loss: 1.3055 - val_acc: 0.5873\n",
            "Epoch 9/50\n",
            "400/400 [==============================] - 2s 5ms/step - loss: 0.5991 - acc: 0.7991 - val_loss: 1.3131 - val_acc: 0.5968\n",
            "Epoch 10/50\n",
            "400/400 [==============================] - 3s 7ms/step - loss: 0.5200 - acc: 0.8270 - val_loss: 1.3023 - val_acc: 0.6053\n",
            "Epoch 11/50\n",
            "400/400 [==============================] - 2s 5ms/step - loss: 0.4546 - acc: 0.8518 - val_loss: 1.3355 - val_acc: 0.6082\n",
            "Epoch 12/50\n",
            "400/400 [==============================] - 2s 5ms/step - loss: 0.3906 - acc: 0.8747 - val_loss: 1.4136 - val_acc: 0.6036\n",
            "Epoch 13/50\n",
            "400/400 [==============================] - 2s 5ms/step - loss: 0.3350 - acc: 0.8931 - val_loss: 1.4875 - val_acc: 0.6047\n",
            "Epoch 14/50\n",
            "400/400 [==============================] - 2s 5ms/step - loss: 0.2868 - acc: 0.9107 - val_loss: 1.4889 - val_acc: 0.6137\n",
            "Epoch 15/50\n",
            "400/400 [==============================] - 2s 6ms/step - loss: 0.2393 - acc: 0.9269 - val_loss: 1.6078 - val_acc: 0.6027\n",
            "Epoch 16/50\n",
            "400/400 [==============================] - 3s 8ms/step - loss: 0.1999 - acc: 0.9419 - val_loss: 1.5888 - val_acc: 0.6211\n",
            "Epoch 17/50\n",
            "400/400 [==============================] - 2s 5ms/step - loss: 0.1654 - acc: 0.9532 - val_loss: 1.7014 - val_acc: 0.6073\n",
            "Epoch 18/50\n",
            "400/400 [==============================] - 3s 7ms/step - loss: 0.1374 - acc: 0.9632 - val_loss: 1.7212 - val_acc: 0.6164\n",
            "Epoch 19/50\n",
            "400/400 [==============================] - 2s 5ms/step - loss: 0.1121 - acc: 0.9718 - val_loss: 1.7841 - val_acc: 0.6217\n",
            "Epoch 20/50\n",
            "400/400 [==============================] - 2s 5ms/step - loss: 0.0911 - acc: 0.9778 - val_loss: 2.0198 - val_acc: 0.6059\n",
            "Epoch 21/50\n",
            "400/400 [==============================] - 3s 7ms/step - loss: 0.0757 - acc: 0.9826 - val_loss: 1.9834 - val_acc: 0.6206\n",
            "Epoch 22/50\n",
            "400/400 [==============================] - 2s 5ms/step - loss: 0.0615 - acc: 0.9864 - val_loss: 2.0682 - val_acc: 0.6216\n",
            "Epoch 23/50\n",
            "400/400 [==============================] - 2s 5ms/step - loss: 0.0507 - acc: 0.9900 - val_loss: 2.2498 - val_acc: 0.6038\n",
            "Epoch 24/50\n",
            "400/400 [==============================] - 2s 5ms/step - loss: 0.0416 - acc: 0.9913 - val_loss: 2.1659 - val_acc: 0.6219\n",
            "Epoch 25/50\n",
            "400/400 [==============================] - 2s 5ms/step - loss: 0.0359 - acc: 0.9924 - val_loss: 2.2561 - val_acc: 0.6161\n",
            "Epoch 26/50\n",
            "400/400 [==============================] - 2s 6ms/step - loss: 0.0319 - acc: 0.9930 - val_loss: 2.3502 - val_acc: 0.6216\n",
            "Epoch 27/50\n",
            "400/400 [==============================] - 2s 6ms/step - loss: 0.0263 - acc: 0.9947 - val_loss: 2.3526 - val_acc: 0.6229\n",
            "Epoch 28/50\n",
            "400/400 [==============================] - 2s 5ms/step - loss: 0.0247 - acc: 0.9947 - val_loss: 2.4544 - val_acc: 0.6162\n",
            "Epoch 29/50\n",
            "400/400 [==============================] - 2s 5ms/step - loss: 0.0218 - acc: 0.9951 - val_loss: 2.4821 - val_acc: 0.6272\n",
            "Epoch 30/50\n",
            "400/400 [==============================] - 2s 5ms/step - loss: 0.0175 - acc: 0.9963 - val_loss: 2.7826 - val_acc: 0.6075\n",
            "Epoch 31/50\n",
            "400/400 [==============================] - 2s 5ms/step - loss: 0.0185 - acc: 0.9957 - val_loss: 2.5734 - val_acc: 0.6224\n",
            "Epoch 32/50\n",
            "400/400 [==============================] - 3s 7ms/step - loss: 0.0147 - acc: 0.9967 - val_loss: 2.6958 - val_acc: 0.6230\n",
            "Epoch 33/50\n",
            "400/400 [==============================] - 2s 5ms/step - loss: 0.0138 - acc: 0.9970 - val_loss: 2.8009 - val_acc: 0.6164\n",
            "Epoch 34/50\n",
            "400/400 [==============================] - 2s 5ms/step - loss: 0.0125 - acc: 0.9972 - val_loss: 2.8414 - val_acc: 0.6240\n",
            "Epoch 35/50\n",
            "400/400 [==============================] - 2s 5ms/step - loss: 0.0119 - acc: 0.9971 - val_loss: 3.0404 - val_acc: 0.6156\n",
            "Epoch 36/50\n",
            "400/400 [==============================] - 2s 5ms/step - loss: 0.0112 - acc: 0.9971 - val_loss: 2.8967 - val_acc: 0.6249\n",
            "Epoch 37/50\n",
            "400/400 [==============================] - 2s 5ms/step - loss: 0.0111 - acc: 0.9969 - val_loss: 2.9789 - val_acc: 0.6105\n",
            "Epoch 38/50\n",
            "400/400 [==============================] - 3s 8ms/step - loss: 0.0125 - acc: 0.9969 - val_loss: 2.9104 - val_acc: 0.6169\n",
            "Epoch 39/50\n",
            "400/400 [==============================] - 2s 6ms/step - loss: 0.0117 - acc: 0.9971 - val_loss: 3.0392 - val_acc: 0.6267\n",
            "Epoch 40/50\n",
            "400/400 [==============================] - 2s 5ms/step - loss: 0.0098 - acc: 0.9974 - val_loss: 3.0155 - val_acc: 0.6215\n",
            "Epoch 41/50\n",
            "400/400 [==============================] - 2s 5ms/step - loss: 0.0105 - acc: 0.9972 - val_loss: 3.0822 - val_acc: 0.6284\n",
            "Epoch 42/50\n",
            "400/400 [==============================] - 2s 5ms/step - loss: 0.0087 - acc: 0.9980 - val_loss: 3.0762 - val_acc: 0.6282\n",
            "Epoch 43/50\n",
            "400/400 [==============================] - 2s 6ms/step - loss: 0.0075 - acc: 0.9980 - val_loss: 3.0864 - val_acc: 0.6295\n",
            "Epoch 44/50\n",
            "400/400 [==============================] - 3s 7ms/step - loss: 0.0078 - acc: 0.9980 - val_loss: 3.1716 - val_acc: 0.6262\n",
            "Epoch 45/50\n",
            "400/400 [==============================] - 2s 6ms/step - loss: 0.0066 - acc: 0.9984 - val_loss: 3.2321 - val_acc: 0.6261\n",
            "Epoch 46/50\n",
            "400/400 [==============================] - 2s 5ms/step - loss: 0.0067 - acc: 0.9983 - val_loss: 3.3179 - val_acc: 0.6208\n",
            "Epoch 47/50\n",
            "400/400 [==============================] - 2s 5ms/step - loss: 0.0077 - acc: 0.9980 - val_loss: 3.1788 - val_acc: 0.6233\n",
            "Epoch 48/50\n",
            "400/400 [==============================] - 2s 5ms/step - loss: 0.0065 - acc: 0.9981 - val_loss: 3.4034 - val_acc: 0.6280\n",
            "Epoch 49/50\n",
            "400/400 [==============================] - 3s 7ms/step - loss: 0.0071 - acc: 0.9982 - val_loss: 3.3874 - val_acc: 0.6252\n",
            "Epoch 50/50\n",
            "400/400 [==============================] - 2s 5ms/step - loss: 0.0061 - acc: 0.9985 - val_loss: 3.4438 - val_acc: 0.6298\n"
          ]
        }
      ],
      "source": [
        "# Train the model and store model parameters/loss values\n",
        "history = model.fit(x_tr, y_tr, batch_size=100, epochs=50, validation_data=(x_val, y_val))\n"
      ]
    },
    {
      "cell_type": "markdown",
      "metadata": {
        "id": "FSDyJozpwBau"
      },
      "source": [
        "## 3. Plot the training and validation loss curve versus epochs. (5 points)"
      ]
    },
    {
      "cell_type": "code",
      "execution_count": 25,
      "metadata": {
        "colab": {
          "base_uri": "https://localhost:8080/",
          "height": 279
        },
        "id": "IC9-mrKDwBav",
        "outputId": "fe42141a-16de-49da-f7f3-f9a7896e00e7"
      },
      "outputs": [
        {
          "output_type": "display_data",
          "data": {
            "text/plain": [
              "<Figure size 432x288 with 1 Axes>"
            ],
            "image/png": "[encoded data removed]"
          },
          "metadata": {
            "needs_background": "light"
          }
        }
      ],
      "source": [
        "# Plot the loss curve\n",
        "import matplotlib.pyplot as plt\n",
        "%matplotlib inline\n",
        "\n",
        "epochs = range(50)\n",
        "train_acc = history.history['acc']\n",
        "valid_acc = history.history['val_acc']\n",
        "plt.plot(epochs, train_acc, 'bo', label='Training acc')\n",
        "plt.plot(epochs, valid_acc, 'r', label='Validation acc')\n",
        "plt.xlabel('Epochs')\n",
        "plt.ylabel('Accuracy')\n",
        "\n",
        "plt.legend()\n",
        "plt.show()"
      ]
    },
    {
      "cell_type": "markdown",
      "metadata": {
        "id": "2IAOLi42wBav"
      },
      "source": [
        "## 4. Train (again) and evaluate the model (5 points)\n",
        "\n",
        "- To this end, you have found the \"best\" hyper-parameters. \n",
        "- Now, fix the hyper-parameters and train the network on the entire training set (all the 50K training samples)\n",
        "- Evaluate your model on the test set."
      ]
    },
    {
      "cell_type": "markdown",
      "metadata": {
        "id": "C9iOTxhiwBav"
      },
      "source": [
        "### Train the model on the entire training set\n",
        "\n",
        "Why? Previously, you used 40K samples for training; you wasted 10K samples for the sake of hyper-parameter tuning. Now you already know the hyper-parameters, so why not using all the 50K samples for training?"
      ]
    },
    {
      "cell_type": "code",
      "execution_count": 26,
      "metadata": {
        "id": "foSksC1TwBav"
      },
      "outputs": [],
      "source": [
        "#<Compile your model again (using the same hyper-parameters you tuned above)>\n",
        "\n",
        "model2 = models.Sequential()\n",
        "#1 conv, relu, max pool\n",
        "model2.add(Conv2D(32, (3, 3), activation = 'relu', input_shape=(32, 32, 3)))\n",
        "model2.add(MaxPooling2D((2, 2)))\n",
        "\n",
        "#2 conv, relu, max pool\n",
        "model2.add(Conv2D(64, (4, 4), activation = 'relu'))\n",
        "model2.add(MaxPooling2D((2, 2)))\n",
        "\n",
        "model2.add(Flatten())\n",
        "#Dense layers\n",
        "model2.add(Dense(256, activation = 'relu'))\n",
        "model2.add(Dense(10, activation = 'softmax'))\n",
        "\n",
        "#Optimizer\n",
        "model2.compile(optimizer=optimizers.RMSprop(learning_rate=0.0001), loss = 'categorical_crossentropy', metrics=['acc'])\n"
      ]
    },
    {
      "cell_type": "code",
      "execution_count": 27,
      "metadata": {
        "colab": {
          "base_uri": "https://localhost:8080/"
        },
        "id": "UVHCY_WiwBav",
        "outputId": "68ec65c8-be9e-4f44-92b4-41e3a4b88e57"
      },
      "outputs": [
        {
          "output_type": "stream",
          "name": "stdout",
          "text": [
            "Epoch 1/50\n",
            "500/500 [==============================] - 4s 5ms/step - loss: 3.6264 - acc: 0.3047 - val_loss: 1.5392 - val_acc: 0.4524\n",
            "Epoch 2/50\n",
            "500/500 [==============================] - 2s 5ms/step - loss: 1.4360 - acc: 0.4948 - val_loss: 1.3603 - val_acc: 0.5308\n",
            "Epoch 3/50\n",
            "500/500 [==============================] - 2s 5ms/step - loss: 1.2069 - acc: 0.5819 - val_loss: 1.0443 - val_acc: 0.6354\n",
            "Epoch 4/50\n",
            "500/500 [==============================] - 3s 5ms/step - loss: 1.0567 - acc: 0.6352 - val_loss: 0.9168 - val_acc: 0.6873\n",
            "Epoch 5/50\n",
            "500/500 [==============================] - 3s 5ms/step - loss: 0.9350 - acc: 0.6782 - val_loss: 0.7992 - val_acc: 0.7331\n",
            "Epoch 6/50\n",
            "500/500 [==============================] - 2s 5ms/step - loss: 0.8265 - acc: 0.7176 - val_loss: 0.7469 - val_acc: 0.7486\n",
            "Epoch 7/50\n",
            "500/500 [==============================] - 2s 5ms/step - loss: 0.7320 - acc: 0.7490 - val_loss: 0.6669 - val_acc: 0.7748\n",
            "Epoch 8/50\n",
            "500/500 [==============================] - 2s 5ms/step - loss: 0.6471 - acc: 0.7809 - val_loss: 0.5561 - val_acc: 0.8125\n",
            "Epoch 9/50\n",
            "500/500 [==============================] - 3s 6ms/step - loss: 0.5705 - acc: 0.8068 - val_loss: 0.4620 - val_acc: 0.8538\n",
            "Epoch 10/50\n",
            "500/500 [==============================] - 3s 5ms/step - loss: 0.5001 - acc: 0.8345 - val_loss: 0.4011 - val_acc: 0.8759\n",
            "Epoch 11/50\n",
            "500/500 [==============================] - 2s 5ms/step - loss: 0.4371 - acc: 0.8572 - val_loss: 0.3577 - val_acc: 0.8900\n",
            "Epoch 12/50\n",
            "500/500 [==============================] - 2s 5ms/step - loss: 0.3768 - acc: 0.8769 - val_loss: 0.2945 - val_acc: 0.9148\n",
            "Epoch 13/50\n",
            "500/500 [==============================] - 2s 5ms/step - loss: 0.3240 - acc: 0.8972 - val_loss: 0.2516 - val_acc: 0.9307\n",
            "Epoch 14/50\n",
            "500/500 [==============================] - 3s 6ms/step - loss: 0.2757 - acc: 0.9143 - val_loss: 0.2033 - val_acc: 0.9479\n",
            "Epoch 15/50\n",
            "500/500 [==============================] - 2s 5ms/step - loss: 0.2326 - acc: 0.9295 - val_loss: 0.1958 - val_acc: 0.9411\n",
            "Epoch 16/50\n",
            "500/500 [==============================] - 2s 5ms/step - loss: 0.1950 - acc: 0.9422 - val_loss: 0.1607 - val_acc: 0.9550\n",
            "Epoch 17/50\n",
            "500/500 [==============================] - 2s 5ms/step - loss: 0.1617 - acc: 0.9537 - val_loss: 0.2043 - val_acc: 0.9329\n",
            "Epoch 18/50\n",
            "500/500 [==============================] - 2s 5ms/step - loss: 0.1329 - acc: 0.9644 - val_loss: 0.1082 - val_acc: 0.9727\n",
            "Epoch 19/50\n",
            "500/500 [==============================] - 3s 6ms/step - loss: 0.1102 - acc: 0.9703 - val_loss: 0.0806 - val_acc: 0.9821\n",
            "Epoch 20/50\n",
            "500/500 [==============================] - 3s 6ms/step - loss: 0.0890 - acc: 0.9782 - val_loss: 0.0681 - val_acc: 0.9869\n",
            "Epoch 21/50\n",
            "500/500 [==============================] - 2s 5ms/step - loss: 0.0745 - acc: 0.9818 - val_loss: 0.0503 - val_acc: 0.9935\n",
            "Epoch 22/50\n",
            "500/500 [==============================] - 2s 5ms/step - loss: 0.0616 - acc: 0.9868 - val_loss: 0.0301 - val_acc: 0.9976\n",
            "Epoch 23/50\n",
            "500/500 [==============================] - 2s 5ms/step - loss: 0.0495 - acc: 0.9892 - val_loss: 0.0245 - val_acc: 0.9976\n",
            "Epoch 24/50\n",
            "500/500 [==============================] - 3s 6ms/step - loss: 0.0431 - acc: 0.9905 - val_loss: 0.0211 - val_acc: 0.9981\n",
            "Epoch 25/50\n",
            "500/500 [==============================] - 2s 5ms/step - loss: 0.0346 - acc: 0.9931 - val_loss: 0.0148 - val_acc: 0.9991\n",
            "Epoch 26/50\n",
            "500/500 [==============================] - 2s 5ms/step - loss: 0.0319 - acc: 0.9931 - val_loss: 0.0278 - val_acc: 0.9953\n",
            "Epoch 27/50\n",
            "500/500 [==============================] - 2s 5ms/step - loss: 0.0258 - acc: 0.9952 - val_loss: 0.0127 - val_acc: 0.9991\n",
            "Epoch 28/50\n",
            "500/500 [==============================] - 2s 5ms/step - loss: 0.0229 - acc: 0.9954 - val_loss: 0.0098 - val_acc: 0.9993\n",
            "Epoch 29/50\n",
            "500/500 [==============================] - 3s 6ms/step - loss: 0.0216 - acc: 0.9952 - val_loss: 0.0088 - val_acc: 0.9994\n",
            "Epoch 30/50\n",
            "500/500 [==============================] - 2s 5ms/step - loss: 0.0200 - acc: 0.9957 - val_loss: 0.0097 - val_acc: 0.9994\n",
            "Epoch 31/50\n",
            "500/500 [==============================] - 2s 5ms/step - loss: 0.0182 - acc: 0.9957 - val_loss: 0.0154 - val_acc: 0.9967\n",
            "Epoch 32/50\n",
            "500/500 [==============================] - 2s 5ms/step - loss: 0.0166 - acc: 0.9959 - val_loss: 0.0125 - val_acc: 0.9973\n",
            "Epoch 33/50\n",
            "500/500 [==============================] - 3s 5ms/step - loss: 0.0144 - acc: 0.9966 - val_loss: 0.0048 - val_acc: 0.9997\n",
            "Epoch 34/50\n",
            "500/500 [==============================] - 3s 6ms/step - loss: 0.0128 - acc: 0.9971 - val_loss: 0.0056 - val_acc: 0.9997\n",
            "Epoch 35/50\n",
            "500/500 [==============================] - 2s 5ms/step - loss: 0.0140 - acc: 0.9967 - val_loss: 0.0080 - val_acc: 0.9982\n",
            "Epoch 36/50\n",
            "500/500 [==============================] - 2s 5ms/step - loss: 0.0124 - acc: 0.9969 - val_loss: 0.0028 - val_acc: 0.9998\n",
            "Epoch 37/50\n",
            "500/500 [==============================] - 2s 5ms/step - loss: 0.0121 - acc: 0.9969 - val_loss: 0.0048 - val_acc: 0.9995\n",
            "Epoch 38/50\n",
            "500/500 [==============================] - 3s 6ms/step - loss: 0.0117 - acc: 0.9971 - val_loss: 0.0042 - val_acc: 0.9993\n",
            "Epoch 39/50\n",
            "500/500 [==============================] - 3s 5ms/step - loss: 0.0097 - acc: 0.9976 - val_loss: 0.0039 - val_acc: 0.9992\n",
            "Epoch 40/50\n",
            "500/500 [==============================] - 3s 5ms/step - loss: 0.0102 - acc: 0.9973 - val_loss: 0.0062 - val_acc: 0.9987\n",
            "Epoch 41/50\n",
            "500/500 [==============================] - 2s 5ms/step - loss: 0.0098 - acc: 0.9975 - val_loss: 0.0099 - val_acc: 0.9972\n",
            "Epoch 42/50\n",
            "500/500 [==============================] - 2s 5ms/step - loss: 0.0085 - acc: 0.9979 - val_loss: 0.0196 - val_acc: 0.9942\n",
            "Epoch 43/50\n",
            "500/500 [==============================] - 3s 7ms/step - loss: 0.0092 - acc: 0.9976 - val_loss: 0.0031 - val_acc: 0.9995\n",
            "Epoch 44/50\n",
            "500/500 [==============================] - 3s 5ms/step - loss: 0.0100 - acc: 0.9972 - val_loss: 0.0028 - val_acc: 0.9995\n",
            "Epoch 45/50\n",
            "500/500 [==============================] - 2s 5ms/step - loss: 0.0090 - acc: 0.9975 - val_loss: 0.0063 - val_acc: 0.9982\n",
            "Epoch 46/50\n",
            "500/500 [==============================] - 2s 5ms/step - loss: 0.0086 - acc: 0.9976 - val_loss: 0.0050 - val_acc: 0.9991\n",
            "Epoch 47/50\n",
            "500/500 [==============================] - 2s 5ms/step - loss: 0.0091 - acc: 0.9974 - val_loss: 0.0020 - val_acc: 0.9998\n",
            "Epoch 48/50\n",
            "500/500 [==============================] - 3s 6ms/step - loss: 0.0075 - acc: 0.9979 - val_loss: 0.0066 - val_acc: 0.9987\n",
            "Epoch 49/50\n",
            "500/500 [==============================] - 2s 5ms/step - loss: 0.0081 - acc: 0.9979 - val_loss: 0.0011 - val_acc: 0.9999\n",
            "Epoch 50/50\n",
            "500/500 [==============================] - 2s 5ms/step - loss: 0.0074 - acc: 0.9977 - val_loss: 0.0014 - val_acc: 0.9999\n"
          ]
        }
      ],
      "source": [
        "#<Train your model on the entire training set (50K samples)>\n",
        "history = model2.fit(x_train, y_train_vec, batch_size=100, epochs=50, validation_data=(x_val, y_val))\n"
      ]
    },
    {
      "cell_type": "markdown",
      "metadata": {
        "id": "cMpREKvlwBaw"
      },
      "source": [
        "## 5. Evaluate the model on the test set (5 points)\n",
        "\n",
        "Do NOT use the test set until now. Make sure that your model parameters and hyper-parameters are independent of the test set."
      ]
    },
    {
      "cell_type": "code",
      "execution_count": 28,
      "metadata": {
        "colab": {
          "base_uri": "https://localhost:8080/"
        },
        "id": "p7fBiXSkwBaw",
        "outputId": "e2385f8e-e5c2-4a10-8468-21838f9bd5f1"
      },
      "outputs": [
        {
          "output_type": "stream",
          "name": "stdout",
          "text": [
            "313/313 [==============================] - 1s 3ms/step - loss: 3.1781 - acc: 0.6475\n",
            "loss = 3.1781058311462402\n",
            "accuracy = 0.6474999785423279\n"
          ]
        }
      ],
      "source": [
        "# Evaluate your model performance (testing accuracy) on testing data.\n",
        "\n",
        "loss_and_acc = model2.evaluate(x_test, y_test_vec)\n",
        "print(\"loss = \" + str(loss_and_acc[0]))\n",
        "print(\"accuracy = \" + str(loss_and_acc[1]))"
      ]
    },
    {
      "cell_type": "markdown",
      "metadata": {
        "id": "lGWpuxepwBaw"
      },
      "source": [
        "## 6. Building model with new structure (25 points)\n",
        "- In this section, you can build your model with adding new layers (e.g, BN layer or dropout layer, ...).\n",
        "- If you want to regularize a ```Conv/Dense layer```, you should place a ```Dropout layer``` before the ```Conv/Dense layer```.\n",
        "- You can try to compare their loss curve and testing accuracy and analyze your findings.\n",
        "- You need to try at lease two different model structures."
      ]
    },
    {
      "cell_type": "code",
      "execution_count": 29,
      "metadata": {
        "colab": {
          "base_uri": "https://localhost:8080/",
          "height": 1000
        },
        "id": "xDQrnyMfwBaw",
        "outputId": "6f827b26-582e-471b-8755-d670fe35daeb"
      },
      "outputs": [
        {
          "output_type": "stream",
          "name": "stdout",
          "text": [
            "Epoch 1/50\n",
            "500/500 [==============================] - 5s 7ms/step - loss: 1.5044 - acc: 0.4669 - val_loss: 1.2979 - val_acc: 0.5399\n",
            "Epoch 2/50\n",
            "500/500 [==============================] - 3s 6ms/step - loss: 1.1582 - acc: 0.5931 - val_loss: 1.0864 - val_acc: 0.6145\n",
            "Epoch 3/50\n",
            "500/500 [==============================] - 3s 6ms/step - loss: 1.0154 - acc: 0.6469 - val_loss: 0.9799 - val_acc: 0.6590\n",
            "Epoch 4/50\n",
            "500/500 [==============================] - 3s 7ms/step - loss: 0.9152 - acc: 0.6819 - val_loss: 0.8502 - val_acc: 0.7057\n",
            "Epoch 5/50\n",
            "500/500 [==============================] - 3s 6ms/step - loss: 0.8421 - acc: 0.7075 - val_loss: 0.8143 - val_acc: 0.7183\n",
            "Epoch 6/50\n",
            "500/500 [==============================] - 3s 6ms/step - loss: 0.7812 - acc: 0.7290 - val_loss: 0.7492 - val_acc: 0.7388\n",
            "Epoch 7/50\n",
            "500/500 [==============================] - 3s 7ms/step - loss: 0.7266 - acc: 0.7500 - val_loss: 0.6666 - val_acc: 0.7701\n",
            "Epoch 8/50\n",
            "500/500 [==============================] - 3s 6ms/step - loss: 0.6787 - acc: 0.7687 - val_loss: 0.6442 - val_acc: 0.7744\n",
            "Epoch 9/50\n",
            "500/500 [==============================] - 3s 6ms/step - loss: 0.6364 - acc: 0.7826 - val_loss: 0.6251 - val_acc: 0.7807\n",
            "Epoch 10/50\n",
            "500/500 [==============================] - 3s 6ms/step - loss: 0.5963 - acc: 0.7982 - val_loss: 0.5560 - val_acc: 0.8152\n",
            "Epoch 11/50\n",
            "500/500 [==============================] - 3s 6ms/step - loss: 0.5583 - acc: 0.8114 - val_loss: 0.5018 - val_acc: 0.8362\n",
            "Epoch 12/50\n",
            "500/500 [==============================] - 3s 6ms/step - loss: 0.5207 - acc: 0.8261 - val_loss: 0.4706 - val_acc: 0.8466\n",
            "Epoch 13/50\n",
            "500/500 [==============================] - 3s 6ms/step - loss: 0.4900 - acc: 0.8366 - val_loss: 0.4927 - val_acc: 0.8348\n",
            "Epoch 14/50\n",
            "500/500 [==============================] - 3s 6ms/step - loss: 0.4559 - acc: 0.8499 - val_loss: 0.4523 - val_acc: 0.8457\n",
            "Epoch 15/50\n",
            "500/500 [==============================] - 3s 6ms/step - loss: 0.4255 - acc: 0.8627 - val_loss: 0.3832 - val_acc: 0.8799\n",
            "Epoch 16/50\n",
            "500/500 [==============================] - 3s 7ms/step - loss: 0.3990 - acc: 0.8725 - val_loss: 0.3887 - val_acc: 0.8716\n",
            "Epoch 17/50\n",
            "500/500 [==============================] - 3s 6ms/step - loss: 0.3704 - acc: 0.8821 - val_loss: 0.3316 - val_acc: 0.9006\n",
            "Epoch 18/50\n",
            "500/500 [==============================] - 3s 6ms/step - loss: 0.3445 - acc: 0.8925 - val_loss: 0.3578 - val_acc: 0.8801\n",
            "Epoch 19/50\n",
            "500/500 [==============================] - 3s 6ms/step - loss: 0.3203 - acc: 0.9005 - val_loss: 0.2891 - val_acc: 0.9196\n",
            "Epoch 20/50\n",
            "500/500 [==============================] - 3s 6ms/step - loss: 0.2977 - acc: 0.9109 - val_loss: 0.2767 - val_acc: 0.9192\n",
            "Epoch 21/50\n",
            "500/500 [==============================] - 3s 6ms/step - loss: 0.2745 - acc: 0.9192 - val_loss: 0.2743 - val_acc: 0.9134\n",
            "Epoch 22/50\n",
            "500/500 [==============================] - 3s 6ms/step - loss: 0.2546 - acc: 0.9263 - val_loss: 0.2642 - val_acc: 0.9107\n",
            "Epoch 23/50\n",
            "500/500 [==============================] - 3s 6ms/step - loss: 0.2357 - acc: 0.9324 - val_loss: 0.2594 - val_acc: 0.9235\n",
            "Epoch 24/50\n",
            "500/500 [==============================] - 3s 6ms/step - loss: 0.2175 - acc: 0.9405 - val_loss: 0.1738 - val_acc: 0.9614\n",
            "Epoch 25/50\n",
            "500/500 [==============================] - 3s 6ms/step - loss: 0.1983 - acc: 0.9471 - val_loss: 0.1694 - val_acc: 0.9606\n",
            "Epoch 26/50\n",
            "500/500 [==============================] - 3s 6ms/step - loss: 0.1816 - acc: 0.9525 - val_loss: 0.1847 - val_acc: 0.9491\n",
            "Epoch 27/50\n",
            "500/500 [==============================] - 3s 7ms/step - loss: 0.1665 - acc: 0.9590 - val_loss: 0.1323 - val_acc: 0.9740\n",
            "Epoch 28/50\n",
            "500/500 [==============================] - 3s 6ms/step - loss: 0.1535 - acc: 0.9634 - val_loss: 0.1279 - val_acc: 0.9731\n",
            "Epoch 29/50\n",
            "500/500 [==============================] - 3s 7ms/step - loss: 0.1408 - acc: 0.9667 - val_loss: 0.1278 - val_acc: 0.9715\n",
            "Epoch 30/50\n",
            "500/500 [==============================] - 3s 6ms/step - loss: 0.1257 - acc: 0.9720 - val_loss: 0.1064 - val_acc: 0.9799\n",
            "Epoch 31/50\n",
            "500/500 [==============================] - 3s 6ms/step - loss: 0.1148 - acc: 0.9758 - val_loss: 0.1203 - val_acc: 0.9733\n",
            "Epoch 32/50\n",
            "500/500 [==============================] - 3s 6ms/step - loss: 0.1053 - acc: 0.9789 - val_loss: 0.1059 - val_acc: 0.9772\n",
            "Epoch 33/50\n",
            "500/500 [==============================] - 3s 7ms/step - loss: 0.0954 - acc: 0.9818 - val_loss: 0.1312 - val_acc: 0.9650\n",
            "Epoch 34/50\n",
            "500/500 [==============================] - 3s 6ms/step - loss: 0.0862 - acc: 0.9843 - val_loss: 0.1109 - val_acc: 0.9745\n",
            "Epoch 35/50\n",
            "500/500 [==============================] - 3s 6ms/step - loss: 0.0774 - acc: 0.9867 - val_loss: 0.0925 - val_acc: 0.9780\n",
            "Epoch 36/50\n",
            "500/500 [==============================] - 3s 6ms/step - loss: 0.0703 - acc: 0.9884 - val_loss: 0.0646 - val_acc: 0.9910\n",
            "Epoch 37/50\n",
            "500/500 [==============================] - 3s 6ms/step - loss: 0.0636 - acc: 0.9903 - val_loss: 0.0673 - val_acc: 0.9882\n",
            "Epoch 38/50\n",
            "500/500 [==============================] - 3s 6ms/step - loss: 0.0576 - acc: 0.9913 - val_loss: 0.0687 - val_acc: 0.9897\n",
            "Epoch 39/50\n",
            "500/500 [==============================] - 3s 6ms/step - loss: 0.0545 - acc: 0.9922 - val_loss: 0.0522 - val_acc: 0.9925\n",
            "Epoch 40/50\n",
            "500/500 [==============================] - 3s 6ms/step - loss: 0.0477 - acc: 0.9934 - val_loss: 0.0559 - val_acc: 0.9900\n",
            "Epoch 41/50\n",
            "500/500 [==============================] - 3s 6ms/step - loss: 0.0437 - acc: 0.9944 - val_loss: 0.0342 - val_acc: 0.9977\n",
            "Epoch 42/50\n",
            "500/500 [==============================] - 3s 6ms/step - loss: 0.0385 - acc: 0.9954 - val_loss: 0.0305 - val_acc: 0.9978\n",
            "Epoch 43/50\n",
            "500/500 [==============================] - 3s 6ms/step - loss: 0.0355 - acc: 0.9955 - val_loss: 0.0256 - val_acc: 0.9984\n",
            "Epoch 44/50\n",
            "500/500 [==============================] - 3s 6ms/step - loss: 0.0322 - acc: 0.9963 - val_loss: 0.0444 - val_acc: 0.9928\n",
            "Epoch 45/50\n",
            "500/500 [==============================] - 3s 6ms/step - loss: 0.0295 - acc: 0.9967 - val_loss: 0.0310 - val_acc: 0.9964\n",
            "Epoch 46/50\n",
            "500/500 [==============================] - 3s 6ms/step - loss: 0.0267 - acc: 0.9972 - val_loss: 0.0234 - val_acc: 0.9986\n",
            "Epoch 47/50\n",
            "500/500 [==============================] - 3s 7ms/step - loss: 0.0251 - acc: 0.9972 - val_loss: 0.0171 - val_acc: 0.9997\n",
            "Epoch 48/50\n",
            "500/500 [==============================] - 3s 6ms/step - loss: 0.0223 - acc: 0.9976 - val_loss: 0.0219 - val_acc: 0.9972\n",
            "Epoch 49/50\n",
            "500/500 [==============================] - 3s 6ms/step - loss: 0.0213 - acc: 0.9978 - val_loss: 0.0261 - val_acc: 0.9961\n",
            "Epoch 50/50\n",
            "500/500 [==============================] - 3s 6ms/step - loss: 0.0192 - acc: 0.9981 - val_loss: 0.0172 - val_acc: 0.9987\n",
            "313/313 [==============================] - 1s 3ms/step - loss: 1.4592 - acc: 0.7122\n",
            "loss = 1.4592257738113403\n",
            "accuracy = 0.7121999859809875\n"
          ]
        },
        {
          "output_type": "display_data",
          "data": {
            "text/plain": [
              "<Figure size 432x288 with 1 Axes>"
            ],
            "image/png": "[encoded data removed]"
          },
          "metadata": {
            "needs_background": "light"
          }
        }
      ],
      "source": [
        "from tensorflow.keras.layers import Conv2D, MaxPooling2D, Flatten, Dense, Dropout, BatchNormalization, Activation\n",
        "#BATCH NORMALIZATION\n",
        "model3 = models.Sequential()\n",
        "#1 conv, BN relu, max pool\n",
        "model3.add(Conv2D(32, (3, 3), input_shape=(32, 32, 3)))\n",
        "model3.add(BatchNormalization())\n",
        "model3.add(Activation('relu'))\n",
        "model3.add(MaxPooling2D((2, 2)))\n",
        "\n",
        "#2 conv, BN, relu, max pool\n",
        "model3.add(Conv2D(64, (4, 4)))\n",
        "model3.add(BatchNormalization())\n",
        "model3.add(Activation('relu'))\n",
        "model3.add(MaxPooling2D((2, 2)))\n",
        "\n",
        "model3.add(Flatten())\n",
        "\n",
        "\n",
        "\n",
        "#Dense layers\n",
        "model3.add(Dense(256, activation = 'relu'))\n",
        "model3.add(Dense(10, activation = 'softmax'))\n",
        "\n",
        "#Optimizer\n",
        "model3.compile(optimizer=optimizers.RMSprop(learning_rate=0.0001), loss = 'categorical_crossentropy', metrics=['acc'])\n",
        "\n",
        "\n",
        "#Train\n",
        "history = model3.fit(x_train, y_train_vec, batch_size=100, epochs=50, validation_data=(x_val, y_val))\n",
        "\n",
        "# Evaluate your model performance (testing accuracy) on testing data.\n",
        "loss_and_acc = model3.evaluate(x_test, y_test_vec)\n",
        "print(\"loss = \" + str(loss_and_acc[0]))\n",
        "print(\"accuracy = \" + str(loss_and_acc[1]))\n",
        "\n",
        "# Plot the loss curve\n",
        "%matplotlib inline\n",
        "\n",
        "epochs = range(50)\n",
        "train_acc = history.history['acc']\n",
        "valid_acc = history.history['val_acc']\n",
        "plt.plot(epochs, train_acc, 'bo', label='Training acc')\n",
        "plt.plot(epochs, valid_acc, 'r', label='Validation acc')\n",
        "plt.xlabel('Epochs')\n",
        "plt.ylabel('Accuracy')\n",
        "\n",
        "plt.legend()\n",
        "plt.show()"
      ]
    },
    {
      "cell_type": "code",
      "execution_count": 30,
      "metadata": {
        "colab": {
          "base_uri": "https://localhost:8080/",
          "height": 1000
        },
        "id": "ElSZC9uWwBax",
        "outputId": "beb49102-d503-4979-acd6-8802a057c166"
      },
      "outputs": [
        {
          "output_type": "stream",
          "name": "stdout",
          "text": [
            "Epoch 1/50\n",
            "500/500 [==============================] - 34s 64ms/step - loss: 1.7362 - acc: 0.3847 - val_loss: 1.5392 - val_acc: 0.4696\n",
            "Epoch 2/50\n",
            "500/500 [==============================] - 31s 62ms/step - loss: 1.5390 - acc: 0.4693 - val_loss: 1.4204 - val_acc: 0.5104\n",
            "Epoch 3/50\n",
            "500/500 [==============================] - 31s 62ms/step - loss: 1.4555 - acc: 0.5064 - val_loss: 1.3048 - val_acc: 0.5620\n",
            "Epoch 4/50\n",
            "500/500 [==============================] - 31s 61ms/step - loss: 1.4027 - acc: 0.5295 - val_loss: 1.2875 - val_acc: 0.5510\n",
            "Epoch 5/50\n",
            "500/500 [==============================] - 32s 65ms/step - loss: 1.3559 - acc: 0.5446 - val_loss: 1.2208 - val_acc: 0.5928\n",
            "Epoch 6/50\n",
            "500/500 [==============================] - 30s 60ms/step - loss: 1.3224 - acc: 0.5570 - val_loss: 1.2141 - val_acc: 0.5865\n",
            "Epoch 7/50\n",
            "500/500 [==============================] - 31s 63ms/step - loss: 1.2901 - acc: 0.5682 - val_loss: 1.1516 - val_acc: 0.6064\n",
            "Epoch 8/50\n",
            "500/500 [==============================] - 30s 60ms/step - loss: 1.2596 - acc: 0.5816 - val_loss: 1.1132 - val_acc: 0.6291\n",
            "Epoch 9/50\n",
            "500/500 [==============================] - 32s 64ms/step - loss: 1.2338 - acc: 0.5932 - val_loss: 1.1000 - val_acc: 0.6302\n",
            "Epoch 10/50\n",
            "500/500 [==============================] - 30s 61ms/step - loss: 1.2107 - acc: 0.5979 - val_loss: 1.0877 - val_acc: 0.6362\n",
            "Epoch 11/50\n",
            "500/500 [==============================] - 33s 67ms/step - loss: 1.1906 - acc: 0.6030 - val_loss: 1.0329 - val_acc: 0.6535\n",
            "Epoch 12/50\n",
            "500/500 [==============================] - 31s 61ms/step - loss: 1.1748 - acc: 0.6106 - val_loss: 1.0284 - val_acc: 0.6500\n",
            "Epoch 13/50\n",
            "500/500 [==============================] - 32s 64ms/step - loss: 1.1569 - acc: 0.6151 - val_loss: 1.0389 - val_acc: 0.6521\n",
            "Epoch 14/50\n",
            "500/500 [==============================] - 31s 61ms/step - loss: 1.1376 - acc: 0.6209 - val_loss: 0.9275 - val_acc: 0.6982\n",
            "Epoch 15/50\n",
            "500/500 [==============================] - 32s 65ms/step - loss: 1.1227 - acc: 0.6273 - val_loss: 0.9534 - val_acc: 0.6776\n",
            "Epoch 16/50\n",
            "500/500 [==============================] - 30s 61ms/step - loss: 1.1063 - acc: 0.6310 - val_loss: 0.9759 - val_acc: 0.6733\n",
            "Epoch 17/50\n",
            "500/500 [==============================] - 32s 64ms/step - loss: 1.0955 - acc: 0.6355 - val_loss: 1.0243 - val_acc: 0.6562\n",
            "Epoch 18/50\n",
            "500/500 [==============================] - 30s 59ms/step - loss: 1.0801 - acc: 0.6376 - val_loss: 0.9200 - val_acc: 0.6917\n",
            "Epoch 19/50\n",
            "500/500 [==============================] - 33s 67ms/step - loss: 1.0659 - acc: 0.6448 - val_loss: 0.9838 - val_acc: 0.6626\n",
            "Epoch 20/50\n",
            "500/500 [==============================] - 30s 60ms/step - loss: 1.0551 - acc: 0.6468 - val_loss: 0.8249 - val_acc: 0.7291\n",
            "Epoch 21/50\n",
            "500/500 [==============================] - 33s 66ms/step - loss: 1.0415 - acc: 0.6512 - val_loss: 0.8650 - val_acc: 0.7100\n",
            "Epoch 22/50\n",
            "500/500 [==============================] - 32s 64ms/step - loss: 1.0326 - acc: 0.6553 - val_loss: 0.8612 - val_acc: 0.7080\n",
            "Epoch 23/50\n",
            "500/500 [==============================] - 31s 62ms/step - loss: 1.0188 - acc: 0.6569 - val_loss: 1.0397 - val_acc: 0.6470\n",
            "Epoch 24/50\n",
            "500/500 [==============================] - 31s 63ms/step - loss: 1.0101 - acc: 0.6615 - val_loss: 0.8585 - val_acc: 0.7097\n",
            "Epoch 25/50\n",
            "500/500 [==============================] - 31s 62ms/step - loss: 1.0029 - acc: 0.6619 - val_loss: 0.8786 - val_acc: 0.6996\n",
            "Epoch 26/50\n",
            "500/500 [==============================] - 32s 64ms/step - loss: 0.9942 - acc: 0.6650 - val_loss: 0.9598 - val_acc: 0.6792\n",
            "Epoch 27/50\n",
            "500/500 [==============================] - 31s 63ms/step - loss: 0.9915 - acc: 0.6647 - val_loss: 0.8862 - val_acc: 0.7019\n",
            "Epoch 28/50\n",
            "500/500 [==============================] - 31s 63ms/step - loss: 0.9795 - acc: 0.6693 - val_loss: 0.8457 - val_acc: 0.7223\n",
            "Epoch 29/50\n",
            "500/500 [==============================] - 32s 64ms/step - loss: 0.9672 - acc: 0.6749 - val_loss: 0.8220 - val_acc: 0.7226\n",
            "Epoch 30/50\n",
            "500/500 [==============================] - 30s 60ms/step - loss: 0.9609 - acc: 0.6776 - val_loss: 0.8157 - val_acc: 0.7192\n",
            "Epoch 31/50\n",
            "500/500 [==============================] - 32s 65ms/step - loss: 0.9538 - acc: 0.6789 - val_loss: 0.8379 - val_acc: 0.7184\n",
            "Epoch 32/50\n",
            "500/500 [==============================] - 30s 61ms/step - loss: 0.9488 - acc: 0.6789 - val_loss: 0.7755 - val_acc: 0.7344\n",
            "Epoch 33/50\n",
            "500/500 [==============================] - 32s 65ms/step - loss: 0.9476 - acc: 0.6788 - val_loss: 0.8064 - val_acc: 0.7260\n",
            "Epoch 34/50\n",
            "500/500 [==============================] - 31s 62ms/step - loss: 0.9315 - acc: 0.6847 - val_loss: 0.7514 - val_acc: 0.7465\n",
            "Epoch 35/50\n",
            "500/500 [==============================] - 33s 65ms/step - loss: 0.9275 - acc: 0.6861 - val_loss: 0.7527 - val_acc: 0.7480\n",
            "Epoch 36/50\n",
            "500/500 [==============================] - 30s 60ms/step - loss: 0.9245 - acc: 0.6861 - val_loss: 0.7642 - val_acc: 0.7350\n",
            "Epoch 37/50\n",
            "500/500 [==============================] - 33s 65ms/step - loss: 0.9188 - acc: 0.6892 - val_loss: 0.7943 - val_acc: 0.7322\n",
            "Epoch 38/50\n",
            "500/500 [==============================] - 30s 61ms/step - loss: 0.9117 - acc: 0.6899 - val_loss: 0.7973 - val_acc: 0.7347\n",
            "Epoch 39/50\n",
            "500/500 [==============================] - 32s 64ms/step - loss: 0.9143 - acc: 0.6898 - val_loss: 0.7243 - val_acc: 0.7545\n",
            "Epoch 40/50\n",
            "500/500 [==============================] - 30s 61ms/step - loss: 0.9013 - acc: 0.6923 - val_loss: 0.7577 - val_acc: 0.7430\n",
            "Epoch 41/50\n",
            "500/500 [==============================] - 32s 64ms/step - loss: 0.8957 - acc: 0.6942 - val_loss: 0.6995 - val_acc: 0.7625\n",
            "Epoch 42/50\n",
            "500/500 [==============================] - 31s 63ms/step - loss: 0.8934 - acc: 0.6957 - val_loss: 0.7260 - val_acc: 0.7557\n",
            "Epoch 43/50\n",
            "500/500 [==============================] - 31s 62ms/step - loss: 0.8857 - acc: 0.6987 - val_loss: 0.7610 - val_acc: 0.7423\n",
            "Epoch 44/50\n",
            "500/500 [==============================] - 32s 63ms/step - loss: 0.8861 - acc: 0.6998 - val_loss: 0.7079 - val_acc: 0.7586\n",
            "Epoch 45/50\n",
            "500/500 [==============================] - 31s 63ms/step - loss: 0.8773 - acc: 0.7014 - val_loss: 0.7357 - val_acc: 0.7527\n",
            "Epoch 46/50\n",
            "500/500 [==============================] - 31s 63ms/step - loss: 0.8805 - acc: 0.6999 - val_loss: 0.7199 - val_acc: 0.7502\n",
            "Epoch 47/50\n",
            "500/500 [==============================] - 31s 63ms/step - loss: 0.8709 - acc: 0.7029 - val_loss: 0.7405 - val_acc: 0.7450\n",
            "Epoch 48/50\n",
            "500/500 [==============================] - 33s 66ms/step - loss: 0.8689 - acc: 0.7043 - val_loss: 0.6917 - val_acc: 0.7692\n",
            "Epoch 49/50\n",
            "500/500 [==============================] - 32s 64ms/step - loss: 0.8567 - acc: 0.7079 - val_loss: 0.6617 - val_acc: 0.7737\n",
            "Epoch 50/50\n",
            "500/500 [==============================] - 30s 61ms/step - loss: 0.8562 - acc: 0.7075 - val_loss: 0.6550 - val_acc: 0.7803\n",
            "313/313 [==============================] - 1s 3ms/step - loss: 0.7432 - acc: 0.7490\n",
            "loss = 0.743191659450531\n",
            "accuracy = 0.7490000128746033\n"
          ]
        },
        {
          "output_type": "display_data",
          "data": {
            "text/plain": [
              "<Figure size 432x288 with 1 Axes>"
            ],
            "image/png": "[encoded data removed]"
          },
          "metadata": {
            "needs_background": "light"
          }
        }
      ],
      "source": [
        "#BATCH NORMALIZATION AND DATA AUGMENTATION\n",
        "\n",
        "model4 = models.Sequential()\n",
        "#1 conv, BN, relu, max pool\n",
        "model4.add(Conv2D(32, (3, 3), input_shape=(32, 32, 3)))\n",
        "model4.add(BatchNormalization())\n",
        "model4.add(Activation('relu'))\n",
        "model4.add(MaxPooling2D((2, 2)))\n",
        "\n",
        "#2 conv, BN, relu, max pool\n",
        "model4.add(Conv2D(64, (4, 4)))\n",
        "model4.add(BatchNormalization())\n",
        "model4.add(Activation('relu'))\n",
        "model4.add(MaxPooling2D((2, 2)))\n",
        "\n",
        "model4.add(Flatten())\n",
        "\n",
        "\n",
        "#Dense layers\n",
        "model4.add(Dense(256))\n",
        "model4.add(BatchNormalization())\n",
        "model4.add(Activation('relu'))\n",
        "model4.add(Dense(10))\n",
        "model4.add(BatchNormalization())\n",
        "model4.add(Activation('softmax'))\n",
        "\n",
        "\n",
        "#Data Augmentation\n",
        "from tensorflow.keras.preprocessing.image import ImageDataGenerator\n",
        "train_datagen = ImageDataGenerator(rotation_range=20, width_shift_range=0.2, height_shift_range=0.2, zoom_range = 0.2, shear_range = 0.2, horizontal_flip=True)\n",
        "train_datagen.fit(x_train)\n",
        "train_generator = train_datagen.flow(x_train, y_train_vec, batch_size=100)\n",
        "\n",
        "#Optimizer\n",
        "model4.compile(optimizer=optimizers.RMSprop(learning_rate=0.0001), loss = 'categorical_crossentropy', metrics=['acc'])\n",
        "\n",
        "\n",
        "#Train\n",
        "history = model4.fit(train_generator, steps_per_epoch=len(x_train)/100, epochs=50, validation_data=(x_val, y_val))\n",
        "\n",
        "# Evaluate your model performance (testing accuracy) on testing data.\n",
        "loss_and_acc = model4.evaluate(x_test, y_test_vec)\n",
        "print(\"loss = \" + str(loss_and_acc[0]))\n",
        "print(\"accuracy = \" + str(loss_and_acc[1]))\n",
        "\n",
        "\n",
        "# Plot the loss curve\n",
        "%matplotlib inline\n",
        "\n",
        "epochs = range(50)\n",
        "train_acc = history.history['acc']\n",
        "valid_acc = history.history['val_acc']\n",
        "plt.plot(epochs, train_acc, 'bo', label='Training acc')\n",
        "plt.plot(epochs, valid_acc, 'r', label='Validation acc')\n",
        "plt.xlabel('Epochs')\n",
        "plt.ylabel('Accuracy')\n",
        "\n",
        "plt.legend()\n",
        "plt.show()"
      ]
    },
    {
      "cell_type": "code",
      "execution_count": 30,
      "metadata": {
        "id": "HtfzUvo8wBax"
      },
      "outputs": [],
      "source": [
        "# First model accuracy: 0.647\n",
        "# Model with Batch Normalization: 0.712\n",
        "# Model with Batch Normalization and Data Augmentation: 0.749"
      ]
    }
  ],
  "metadata": {
    "kernelspec": {
      "display_name": "Python 3 (ipykernel)",
      "language": "python",
      "name": "python3"
    },
    "language_info": {
      "codemirror_mode": {
        "name": "ipython",
        "version": 3
      },
      "file_extension": ".py",
      "mimetype": "text/x-python",
      "name": "python",
      "nbconvert_exporter": "python",
      "pygments_lexer": "ipython3",
      "version": "3.9.13"
    },
    "colab": {
      "provenance": []
    },
    "accelerator": "GPU",
    "gpuClass": "standard"
  },
  "nbformat": 4,
  "nbformat_minor": 0
}